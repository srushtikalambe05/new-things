{
 "cells": [
  {
   "cell_type": "markdown",
   "metadata": {},
   "source": [
    "Assignment : MULTIHREADING"
   ]
  },
  {
   "cell_type": "markdown",
   "metadata": {},
   "source": [
    "Question no. 1:-"
   ]
  },
  {
   "cell_type": "markdown",
   "metadata": {},
   "source": [
    "Multithreading in python is for processing multiples threads in a single process, Each thread is a separate flow of control that can perform tasks independently\n",
    "\n",
    "It is used for to create responsive user interfaces, where one thread handles user input and another performs background tasks.\n",
    "\n",
    "Moudule used to handle thread is \"Threading\"\n"
   ]
  },
  {
   "cell_type": "markdown",
   "metadata": {},
   "source": [
    "Question no. 2:-"
   ]
  },
  {
   "cell_type": "markdown",
   "metadata": {},
   "source": [
    "Threading module is used to handle threads is multiprocessing\n",
    "\n",
    "activeCount(): This function is used to get the number of Thread objects currently alive. \n",
    "\n",
    "currentThread() : This is function is used to obtain information about the currently executing thread.\n",
    "\n",
    "enumerate() : This function is used for iterating through and accessing information about all running threads."
   ]
  },
  {
   "cell_type": "markdown",
   "metadata": {},
   "source": [
    "Question no. 3:-"
   ]
  },
  {
   "cell_type": "markdown",
   "metadata": {},
   "source": [
    "run() : \"run()\" This method contains the code that you want the thread to execute when it starts. You should define the specific behavior of your thread in this method.\n",
    "\n",
    "start() : \"start()\" method is used to start a thread's execution. it is essential to call start() to begi executing the thread.\n",
    "\n",
    "join() : \"join()\" method is used to wait for a thread to complete its execution.This is often used to ensure that the main program doesn't proceed until a specific thread has completed its task.\n",
    "\n",
    "isAlive() : \"is Alive\" method is used to check if the thread is currently running or alive."
   ]
  },
  {
   "cell_type": "markdown",
   "metadata": {},
   "source": [
    "Question no. 4:-"
   ]
  },
  {
   "cell_type": "code",
   "execution_count": 2,
   "metadata": {},
   "outputs": [
    {
     "name": "stdout",
     "output_type": "stream",
     "text": [
      "Square of 1: 1\n",
      "Square of 2: 4\n",
      "Square of 3: 9\n",
      "Square of 4: 16\n",
      "Square of 5: 25\n",
      "Square of 6: 36\n",
      "Square of 7: 49\n",
      "Square of 8: 64\n",
      "Square of 9: 81\n",
      "Square of 10: 100\n",
      "cube of 1 : 1\n",
      "cube of 2 : 8\n",
      "cube of 3 : 27\n",
      "cube of 4 : 64\n",
      "cube of 5 : 125\n",
      "cube of 6 : 216\n",
      "cube of 7 : 343\n",
      "cube of 8 : 512\n",
      "cube of 9 : 729\n",
      "cube of 10 : 1000\n"
     ]
    }
   ],
   "source": [
    "import threading\n",
    "\n",
    "def squares(n):\n",
    "    for i in range(1 , n+1):\n",
    "        print(f\"Square of {i}: {i*i}\")\n",
    "\n",
    "def cubes(n):\n",
    "    for i in range(1, n+1):\n",
    "        print(f\"cube of {i} : {i*i*i}\")\n",
    "\n",
    "n = 10\n",
    "\n",
    "thread1 = threading.Thread(target=squares, args= (n,))\n",
    "thread2 = threading.Thread(target=cubes , args = (n,))\n",
    "\n",
    "thread1.start()\n",
    "thread2.start()\n",
    "thread1.join()\n",
    "thread2.join()"
   ]
  },
  {
   "cell_type": "markdown",
   "metadata": {},
   "source": [
    "Question no. 5:-"
   ]
  },
  {
   "cell_type": "markdown",
   "metadata": {},
   "source": [
    "### Advantages of multithreading :\n",
    "1) It improves process as it can make several things simalteneously\n",
    "2) It allows a program to remain responsive to user input while performing background tasks.\n",
    "3) Threads within the same process can share resources like memory space, which can lead to efficient data sharing and communication between threads.\n",
    "### disadvantages os multithreading :\n",
    "1) Multithreaded programs can be complex to design, implement, and debug. \n",
    "2) Deadlocks can occur when multiple threads are waiting for resources that are held by other threads, that can block all the threads.\n",
    "3) Debugging multithreaded code can be complex."
   ]
  },
  {
   "cell_type": "markdown",
   "metadata": {},
   "source": [
    "Question no. 6:-"
   ]
  },
  {
   "cell_type": "markdown",
   "metadata": {},
   "source": [
    "Deadlock :\n",
    "a deadlock is a situation in which two or more threads or processes are unable to proceed because each is waiting for the other to realease a resource or complete a task. \n",
    "\n",
    "Race conditions:\n",
    "A race condition occurs when multiple threads or processes access shared data concurrently and the final outcome depends on the timing or order of execution\n"
   ]
  }
 ],
 "metadata": {
  "kernelspec": {
   "display_name": "Python 3.8.10 64-bit",
   "language": "python",
   "name": "python3"
  },
  "language_info": {
   "codemirror_mode": {
    "name": "ipython",
    "version": 3
   },
   "file_extension": ".py",
   "mimetype": "text/x-python",
   "name": "python",
   "nbconvert_exporter": "python",
   "pygments_lexer": "ipython3",
   "version": "3.8.10"
  },
  "orig_nbformat": 4,
  "vscode": {
   "interpreter": {
    "hash": "e7370f93d1d0cde622a1f8e1c04877d8463912d04d973331ad4851f04de6915a"
   }
  }
 },
 "nbformat": 4,
 "nbformat_minor": 2
}
