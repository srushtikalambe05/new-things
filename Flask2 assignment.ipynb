{
 "cells": [
  {
   "cell_type": "markdown",
   "id": "30765165-2774-47e0-9ff4-9171018a0363",
   "metadata": {},
   "source": [
    "#### Flask 2 Assignment "
   ]
  },
  {
   "cell_type": "markdown",
   "id": "1284836b-f57f-492e-9e6c-96933fbe324d",
   "metadata": {},
   "source": [
    "Question no.1 :-"
   ]
  },
  {
   "cell_type": "markdown",
   "id": "afbad547-04e9-4051-8243-c4554fdfdb08",
   "metadata": {},
   "source": [
    "* GET and POST are the two HTTP methods for sending requests from a client , typically a web browser, to a web server. \n",
    "\n",
    "* GET:\n",
    "1) The purpose of GET method is primarily used to request data from a specified resources on the server.\n",
    "2) In a GET request, data is sent as part of the URL in the form of query parameters.\n",
    "3) There is a practical limit to the amount of data that can be set with a GET request.\n",
    "\n",
    "* POST:\n",
    "1) The purpose of POST method is used to submit data to be processed to a specified resource on the server.\n",
    "2) In a POST requests, data is sent in the request body rather than in the URL.\n",
    "3) Because data is not exposed in the URL, POST requests are generally considered more secure than GET requests for transmitting sensitive information."
   ]
  },
  {
   "cell_type": "markdown",
   "id": "0277a2bf-d390-4d00-a2c5-180a77ad718e",
   "metadata": {},
   "source": [
    "Question no.2 :-\n",
    "\n"
   ]
  },
  {
   "cell_type": "markdown",
   "id": "2c722db8-208c-46cd-b177-1f749eb5f0b8",
   "metadata": {},
   "source": [
    "In Flask the 'request' object is used to access and manipulate data sent to the server by a client as part of an HTTP request. Its an important component of Flask because it allows you to work with data from the client, such as from data, query parameters, and more.\n",
    "\n",
    "The 'request' object in flask is a powerful tool that enables you to interact with client data and handle various aspects of incoming HTTP requests, making it a fundamental component for building web applications with Flask."
   ]
  },
  {
   "cell_type": "markdown",
   "id": "9a2d783b-f278-4f43-855e-f6a58efddd52",
   "metadata": {},
   "source": [
    "Question no.3 :-"
   ]
  },
  {
   "cell_type": "markdown",
   "id": "fb686c90-b85a-405d-b832-1937a40299d1",
   "metadata": {},
   "source": [
    "* In Flask, the 'redirect()' function is used to perform HTTP redirects. It allows you to instruct a client's web browser to navigate to a different URL, typically in response to a specific action or condition in your web application.\n",
    "* Redirects are essential for controlling the flow of the application are used for several important purposes."
   ]
  },
  {
   "cell_type": "markdown",
   "id": "e0a9e610-2558-4662-b422-93aabdac39bc",
   "metadata": {},
   "source": [
    "Question no.4 :-"
   ]
  },
  {
   "cell_type": "markdown",
   "id": "558810e1-8415-4b18-8c62-b6c17bd9ac02",
   "metadata": {},
   "source": [
    "Templates are a way to separate the presentation logic from the business logic of a web application. Templates are typically HTML files with placeholder for dynamic data that needs to be rendered on the web page. These placeholders , often referred to as templates variables, are populated with data from your flask application before the HTML is sent to the client's browser.\n",
    "\n",
    "The 'render_template()' function is used in Flask to render templates and generate HTML cntent dynamically. Its a critical part of building web applications with Flask."
   ]
  },
  {
   "cell_type": "markdown",
   "id": "96fe6cca-60e6-43fa-928b-c67231425eac",
   "metadata": {},
   "source": [
    "Question no.5:-"
   ]
  },
  {
   "cell_type": "markdown",
   "id": "eb5c156d-4d68-4dcb-9181-0a7953223bd8",
   "metadata": {},
   "source": []
  }
 ],
 "metadata": {
  "kernelspec": {
   "display_name": "Python 3 (ipykernel)",
   "language": "python",
   "name": "python3"
  },
  "language_info": {
   "codemirror_mode": {
    "name": "ipython",
    "version": 3
   },
   "file_extension": ".py",
   "mimetype": "text/x-python",
   "name": "python",
   "nbconvert_exporter": "python",
   "pygments_lexer": "ipython3",
   "version": "3.10.8"
  }
 },
 "nbformat": 4,
 "nbformat_minor": 5
}
