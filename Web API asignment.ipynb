{
 "cells": [
  {
   "cell_type": "markdown",
   "id": "1a3310f6-849f-4091-ac8f-51e82b4c3bf1",
   "metadata": {},
   "source": [
    "### Assignment WEB API"
   ]
  },
  {
   "cell_type": "markdown",
   "id": "b0866ba5-0ff0-48c8-85ff-7193845117c8",
   "metadata": {},
   "source": [
    "Question no.1 :\n"
   ]
  },
  {
   "cell_type": "markdown",
   "id": "6ed84156-74c1-4ca3-a92e-6c6504639776",
   "metadata": {},
   "source": [
    "API stands for Application Programming Interface.\n",
    "* It is a set of rules and protocols that allows different software applications to communicate with each other. \n",
    "* APIs define the methods and data formats that developer can use to interact with a particular software component or sevice.\n",
    "* example of where API is used in real life :\n",
    "* imagine if you want to share your song from spotify to your instagram when you click share and select instagram stories that is using using API, in that case spotify's API allows instagram to access the song information and share it on story.\n"
   ]
  },
  {
   "cell_type": "markdown",
   "id": "02f14bcc-ce15-413d-a822-b6856dbd4f7b",
   "metadata": {},
   "source": [
    " Question no.2 :"
   ]
  },
  {
   "cell_type": "markdown",
   "id": "8f4b31d8-e154-4e95-9dbd-04e932911c5c",
   "metadata": {},
   "source": [
    "* Advantages of API -\n",
    "\n",
    "* 1) APIs enable different software systems to communicate and work together. THis promotes interoperability between applications and services, allowing developers to create more powerful and feature rich software\n",
    "* 2) APIs developers can save time and resources as they dont need to build every compenent and from scratch.\n",
    "* 3)APIs fosters innovation by providing access to new and advanced features, data and srvices.\n",
    "\n",
    "* Disadvantages of API -\n",
    "\n",
    "* 1) Relying on third party APIs means that your applications functionality depends on the availability and stability of those APIs.\n",
    "*  2) You have limited control over the third party APIs. Changes or discountinuation of the APIs can impact your application.\n",
    "* 3) While many APIs are free to use, some require payment based usages or subscription models.\n"
   ]
  },
  {
   "cell_type": "markdown",
   "id": "54b72a19-15a0-4b17-9ed4-0fdf2d332c9c",
   "metadata": {},
   "source": [
    "Question no.3 :"
   ]
  },
  {
   "cell_type": "markdown",
   "id": "e79e471f-9264-43da-828a-49c979bad859",
   "metadata": {},
   "source": [
    "A Web API is a type of API that specifically allows communication and interaction between different software systems over the internet using standard web protocols and technologies.\n",
    "* Differentiate between:\n",
    "\n",
    "* API : Application programming interface:\n",
    "* 1)An API is a border term that encompasses various types of interfaces, including libraries, framework etc and specifications that enable communication and interaction between different software components.\n",
    "* 2)APIs can be used for a wide range of purposes, both within single software aplication and between different software application or srvices. \n",
    "\n",
    "* WEB API:\n",
    "* A Web API is a subset of APIs that is designed for communication over the internet using web technologis. It typically follows the principles of REST and uses HTTPS as the transport protocol.\n",
    "* Web APIs are specifiacally used to enable interaction between client applications and remote servers or services over the WORLD WIDE WEB. \n",
    "\n",
    "\n",
    "\n",
    "\n"
   ]
  },
  {
   "cell_type": "markdown",
   "id": "08c54d0c-5de0-47e6-9d56-646adf86286d",
   "metadata": {},
   "source": [
    "Question no. 4:"
   ]
  },
  {
   "cell_type": "markdown",
   "id": "31483199-5e43-40d2-b223-e357c0644784",
   "metadata": {},
   "source": [
    " REST:\n",
    "* REST is Representational State Transferan architectural style and set of constraints for designing networked applications. REST is not a specific protocol but a set of principles for building web services that are scalable, stateless, and highly maintainable.\n",
    "\n",
    " SOAP :\n",
    "* SOAP is a Simple Object Access Protocol, is a protocol for exchanging structured information in the implementation of web services.SOAP defines a standardized format for messages and uses XML as the message format.\n",
    "\n",
    "* short comings of SOAP are complexity, performance overhead,tightly coupled.\n"
   ]
  },
  {
   "cell_type": "markdown",
   "id": "f9c3a0f3-139a-49ca-be90-050c5d1eb6cf",
   "metadata": {},
   "source": [
    "Question no. 5:"
   ]
  },
  {
   "cell_type": "markdown",
   "id": "243937bb-cfc0-4bdf-ae3c-c27df6505508",
   "metadata": {},
   "source": [
    "Diferentiate between REST and SOAP:\n",
    "1)Architectural style:\n",
    "* REST is an architectural style not a protocol.It is based on a set of principles and constraints for designing networked applications.\n",
    "* SOAP is a protocol, a specific set of rules and standards for structuring messages and defining how client and sevices should interact.\n",
    "\n",
    "2) Message Format:\n",
    "* REST typicaly uses lightweight data formats, such as JSON or XML for messages payloads. \n",
    "* SOAP uses  XML as the message format, which is more heavyweight and has a specific message structure.\n",
    "\n",
    "3) Communication Protocol:\n",
    "# : REST relies on standard HTTP methods for communication, making it easy to work with web based services. \n",
    "# : SOAP can work over various transport protocols, icluding HTTP,SMTP and others.Its not tied to a specific transport protocol. \n"
   ]
  }
 ],
 "metadata": {
  "kernelspec": {
   "display_name": "Python 3 (ipykernel)",
   "language": "python",
   "name": "python3"
  },
  "language_info": {
   "codemirror_mode": {
    "name": "ipython",
    "version": 3
   },
   "file_extension": ".py",
   "mimetype": "text/x-python",
   "name": "python",
   "nbconvert_exporter": "python",
   "pygments_lexer": "ipython3",
   "version": "3.10.8"
  }
 },
 "nbformat": 4,
 "nbformat_minor": 5
}
