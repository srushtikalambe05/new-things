{
 "cells": [
  {
   "cell_type": "markdown",
   "id": "7869dc45-18d8-4488-b7ca-bd186913edf8",
   "metadata": {},
   "source": [
    "#### Assignment"
   ]
  },
  {
   "cell_type": "markdown",
   "id": "1b1d7fea-c139-416f-86e1-a5762f38a048",
   "metadata": {},
   "source": [
    "Question no. 1:-"
   ]
  },
  {
   "cell_type": "markdown",
   "id": "87620a5d-c574-4af0-ab7b-7f1fea6bb93f",
   "metadata": {},
   "source": [
    "class in python is a blueprint fro creating a object. it defines a set of attributes and methods. A class serves as a way to model real-world entities.\n",
    "\n",
    "object in python is an instance of a class.when you create an object from a class, you creaing a specific realization of the class's blueprint.\n",
    "\n",
    "for example:-"
   ]
  },
  {
   "cell_type": "code",
   "execution_count": 5,
   "id": "61274418-59a5-4587-b012-1766c9254c8f",
   "metadata": {},
   "outputs": [],
   "source": [
    "class subject_marks:\n",
    "    def __init__(self, maths, english):\n",
    "        self.maths= maths\n",
    "        self.english=english"
   ]
  },
  {
   "cell_type": "code",
   "execution_count": 7,
   "id": "b5fd4528-463c-4bb7-844c-b297a1212f8b",
   "metadata": {},
   "outputs": [],
   "source": [
    "obj=subject_marks(93,80)"
   ]
  },
  {
   "cell_type": "code",
   "execution_count": 8,
   "id": "6c58afcf-bb08-4b3e-a686-321275c78183",
   "metadata": {},
   "outputs": [
    {
     "data": {
      "text/plain": [
       "93"
      ]
     },
     "execution_count": 8,
     "metadata": {},
     "output_type": "execute_result"
    }
   ],
   "source": [
    "obj.maths"
   ]
  },
  {
   "cell_type": "markdown",
   "id": "438c5e96-adee-4137-af5f-dec107ce1e13",
   "metadata": {},
   "source": [
    "Question no.2:-"
   ]
  },
  {
   "cell_type": "markdown",
   "id": "e8c27b0e-867f-46ed-8ac1-12a4bba939b2",
   "metadata": {},
   "source": [
    "four pillars of OOPs are:-\n",
    "1) Encapsulation\n",
    "2) Inheritance\n",
    "3) Polymophism\n",
    "4) Abstraction"
   ]
  },
  {
   "cell_type": "markdown",
   "id": "46d0561b-68dc-41ad-b492-4c539bbd60de",
   "metadata": {},
   "source": [
    "Question no.3 :-"
   ]
  },
  {
   "cell_type": "markdown",
   "id": "cac07dab-9dca-4c31-9995-f4c999f99f34",
   "metadata": {},
   "source": [
    "__init__() function is a constructor in class. It ensures that when an object is created, it starts with appropriate state.The attributes initialzed in the \"__init__()\" function become instance variables"
   ]
  },
  {
   "cell_type": "code",
   "execution_count": 11,
   "id": "4545d6ec-994d-4441-a17b-575c23204dc7",
   "metadata": {},
   "outputs": [],
   "source": [
    "class pwskills:\n",
    "    def __init__(self, datascience , python):\n",
    "        self.datascience = datascience\n",
    "        self.python = python"
   ]
  },
  {
   "cell_type": "code",
   "execution_count": 12,
   "id": "68d1e614-dfe8-4133-8587-fd38e5c1affb",
   "metadata": {},
   "outputs": [],
   "source": [
    "pw = pwskills(\"course\" , \"coding software\")"
   ]
  },
  {
   "cell_type": "code",
   "execution_count": 14,
   "id": "c2f35656-c247-41b5-8f8d-0ff58e40cd99",
   "metadata": {},
   "outputs": [
    {
     "data": {
      "text/plain": [
       "'course'"
      ]
     },
     "execution_count": 14,
     "metadata": {},
     "output_type": "execute_result"
    }
   ],
   "source": [
    "pw.datascience"
   ]
  },
  {
   "cell_type": "markdown",
   "id": "51998d00-d5b0-4ec8-8ad7-63efc53a3fea",
   "metadata": {},
   "source": [
    "Question no. 4:-"
   ]
  },
  {
   "cell_type": "markdown",
   "id": "e06ac13b-e986-4953-8a24-96c8489b1c7d",
   "metadata": {},
   "source": [
    "'self' in OOP's is a parameter which is used to refer to the instance of the class within methods. 'self' parameter allows methods to access and modify the attributes"
   ]
  },
  {
   "cell_type": "markdown",
   "id": "4be7a213-8ae1-4868-b809-4a88c3e26b2e",
   "metadata": {},
   "source": [
    "Question no. 5:-"
   ]
  },
  {
   "cell_type": "markdown",
   "id": "82fe7a77-d382-4099-99af-d81cd4a6997c",
   "metadata": {},
   "source": [
    "'Inheritance' in class of python is a concept which allow one to class to inherit the other existing class's nethhods and attributes.\n",
    "for ex:"
   ]
  },
  {
   "cell_type": "code",
   "execution_count": 5,
   "id": "1cb7ade0-5343-40a3-a674-78ca25ea3dee",
   "metadata": {},
   "outputs": [],
   "source": [
    "##single inheritance\n",
    "\n",
    "class pwskills:\n",
    "    def course(self):\n",
    "        print(\"pwskills is a online course website\")\n",
    "        \n",
    "class subject(pwskills):\n",
    "    def datascience(self):\n",
    "        print(\"datacience is a course in pwskills\")"
   ]
  },
  {
   "cell_type": "code",
   "execution_count": 12,
   "id": "91f1edcd-c762-43e5-b57d-73e89babe63d",
   "metadata": {},
   "outputs": [
    {
     "name": "stdout",
     "output_type": "stream",
     "text": [
      "pwskills is a online course website\n",
      "datacience is a course in pwskills\n"
     ]
    }
   ],
   "source": [
    "d = subject()\n",
    "d.course()\n",
    "d.datascience()"
   ]
  },
  {
   "cell_type": "code",
   "execution_count": 64,
   "id": "76f02aa2-816c-419b-9df2-4d2000c24aae",
   "metadata": {},
   "outputs": [],
   "source": [
    "## multiple inheritance\n",
    "class blue:\n",
    "    def colour1(self):\n",
    "        print(\"blue is really good colour\")\n",
    "        \n",
    "class pink:\n",
    "    def colour2(self):\n",
    "        print(\"pink is also a good colour\")\n",
    "        \n",
    "class colours(blue, pink):\n",
    "    def colour3(self):\n",
    "        print(\"they both are really good colours\")"
   ]
  },
  {
   "cell_type": "code",
   "execution_count": 65,
   "id": "39a35dd1-bb42-4e36-8efb-81c1264ce9cb",
   "metadata": {},
   "outputs": [],
   "source": [
    "colour = colours()"
   ]
  },
  {
   "cell_type": "code",
   "execution_count": 67,
   "id": "3d08a9c9-682d-41ae-b3a0-684415cf0eb5",
   "metadata": {},
   "outputs": [
    {
     "name": "stdout",
     "output_type": "stream",
     "text": [
      "blue is really good colour\n",
      "pink is also a good colour\n",
      "they both are really good colours\n"
     ]
    }
   ],
   "source": [
    "colour.colour1()\n",
    "colour.colour2()\n",
    "colour.colour3()"
   ]
  },
  {
   "cell_type": "code",
   "execution_count": 35,
   "id": "50d37b83-f988-44c9-a36e-0f3d06122fe2",
   "metadata": {},
   "outputs": [],
   "source": [
    "## hiearchical inhertance\n",
    "\n",
    "class fruit_name:\n",
    "    def fruit(self):\n",
    "        print(\"these are fruits\")\n",
    "class apple(fruit_name):\n",
    "    def fruit(self):\n",
    "        print(\"apple is 1st fruit\")\n",
    "class mango(fruit_name):\n",
    "    def fruit(self):\n",
    "        print(\"mango is a 2nd fruit\")\n",
    "        "
   ]
  },
  {
   "cell_type": "code",
   "execution_count": 41,
   "id": "7470a9c2-5fa8-4d8b-92e7-00eaa989768d",
   "metadata": {},
   "outputs": [],
   "source": [
    "x=fruit_name()\n",
    "a= apple()\n",
    "m= mango()"
   ]
  },
  {
   "cell_type": "code",
   "execution_count": 38,
   "id": "24eaa18d-dc82-45b6-a527-edd7d2d5d9b7",
   "metadata": {},
   "outputs": [
    {
     "name": "stdout",
     "output_type": "stream",
     "text": [
      "apple is 1st fruit\n"
     ]
    }
   ],
   "source": [
    "a.fruit()"
   ]
  },
  {
   "cell_type": "code",
   "execution_count": 40,
   "id": "b343d3a8-5b19-4267-a6d7-fe015c42c018",
   "metadata": {},
   "outputs": [
    {
     "name": "stdout",
     "output_type": "stream",
     "text": [
      "mango is a 2nd fruit\n"
     ]
    }
   ],
   "source": [
    "m.fruit()"
   ]
  },
  {
   "cell_type": "code",
   "execution_count": 42,
   "id": "514fb733-d3e3-447f-ab49-6528ccd0744b",
   "metadata": {},
   "outputs": [
    {
     "name": "stdout",
     "output_type": "stream",
     "text": [
      "these are fruits\n"
     ]
    }
   ],
   "source": [
    "x.fruit()"
   ]
  }
 ],
 "metadata": {
  "kernelspec": {
   "display_name": "Python 3 (ipykernel)",
   "language": "python",
   "name": "python3"
  },
  "language_info": {
   "codemirror_mode": {
    "name": "ipython",
    "version": 3
   },
   "file_extension": ".py",
   "mimetype": "text/x-python",
   "name": "python",
   "nbconvert_exporter": "python",
   "pygments_lexer": "ipython3",
   "version": "3.10.8"
  }
 },
 "nbformat": 4,
 "nbformat_minor": 5
}
