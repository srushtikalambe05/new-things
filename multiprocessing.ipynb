{
 "cells": [
  {
   "cell_type": "markdown",
   "metadata": {},
   "source": [
    "Assignment MULTIPROCESSING"
   ]
  },
  {
   "cell_type": "markdown",
   "metadata": {},
   "source": [
    "Question no.1 :-"
   ]
  },
  {
   "cell_type": "markdown",
   "metadata": {},
   "source": [
    "In python Multiprocessing refers to the technique of using multiple processes, rather than multiple threads, to achieve parallelism and perform tasks concurrently.\n",
    "Each process runs independently.\n",
    "Uses of multiprocessing:\n",
    "1) Multiprocessing is particularly useful when dealing with CPU-bound tasks, which are tasks that require significant computational power. \n",
    "2) Each process in multiprocessing has its own memory space, so they do not share memory by default.\n",
    "3) As processes run independently, if one process crashes or encounters an error, it typically doesn't affect the other processes."
   ]
  },
  {
   "cell_type": "markdown",
   "metadata": {},
   "source": [
    "Question no.2 :-"
   ]
  },
  {
   "cell_type": "markdown",
   "metadata": {},
   "source": [
    "1) In multiprocessing, multiple independent processes run concurrently. Each process has its own memory space, resources, and Python interpreter. and In multithreading, multiple threads of execution run within the same process. Threads share the same memory space and resources.\n",
    "2)  Multiprocessing is well-suited for CPU-bound tasks that can be executed in parallel on multiple CPU cores or processors. and Multithreading is often used for I/O-bound tasks or tasks that require frequent interaction with shared resources.\n",
    "3) In multiprocessing A crash or error in one process is less likely to affect other processes, making multiprocessing more fault-tolerant. and In multithreading a bug or crash in one thread can potentially affect the entire process, leading to less fault tolerance."
   ]
  },
  {
   "cell_type": "markdown",
   "metadata": {},
   "source": [
    "Question no. 3 :-"
   ]
  },
  {
   "cell_type": "code",
   "execution_count": 13,
   "metadata": {},
   "outputs": [
    {
     "name": "stdout",
     "output_type": "stream",
     "text": [
      "squares of 10 is 100\n",
      "squares of 5 is 25\n"
     ]
    }
   ],
   "source": [
    "import multiprocessing\n",
    "\n",
    "def square(n):\n",
    "    a=n*n\n",
    "    print(f\"squares of {n} is {a}\")\n",
    "\n",
    "if __name__ == '__main__':\n",
    "    process = multiprocessing.Process(target=square , args=(10,))\n",
    "    process1= multiprocessing.Process(target=square, args=(5,))\n",
    "\n",
    "process.start()\n",
    "process1.start()\n",
    "process.join()\n",
    "process1.join()\n"
   ]
  },
  {
   "cell_type": "markdown",
   "metadata": {},
   "source": [
    "Question no.4 :-"
   ]
  },
  {
   "cell_type": "markdown",
   "metadata": {},
   "source": [
    "Pool in multiprocessing is a high-level way to manage and distribute parallel tasks across multiple processes. It simplifies the process of parallelizing tasks by providing an easy-to-use interface for parallel execution.\n",
    "why use pool i multiprocessing:Use Pool class when you need to execute tasks that may or may not take arguments and may or may not return a result once the tasks are complet"
   ]
  },
  {
   "cell_type": "markdown",
   "metadata": {},
   "source": [
    "Question no. 5:-"
   ]
  },
  {
   "cell_type": "code",
   "execution_count": 17,
   "metadata": {},
   "outputs": [
    {
     "name": "stdout",
     "output_type": "stream",
     "text": [
      "[2, 4, 6, 8, 10, 12]\n"
     ]
    }
   ],
   "source": [
    "import multiprocessing\n",
    "\n",
    "def function(task):\n",
    "    b = task * 2\n",
    "    return b\n",
    "\n",
    "if __name__== \"__main__\":\n",
    "    number = 4\n",
    "    pool = multiprocessing.Pool(processes=number)\n",
    "\n",
    "task = [1,2,3,4,5,6]\n",
    "\n",
    "results = pool.map(function, task)\n",
    "pool.close()\n",
    "pool.join()\n",
    "\n",
    "print(results)"
   ]
  },
  {
   "cell_type": "markdown",
   "metadata": {},
   "source": [
    "Question no. 6:-"
   ]
  },
  {
   "cell_type": "code",
   "execution_count": 22,
   "metadata": {},
   "outputs": [
    {
     "name": "stdout",
     "output_type": "stream",
     "text": [
      "my number is 1\n",
      "my number is 2\n",
      "my number is 3\n",
      "my number is 4\n"
     ]
    }
   ],
   "source": [
    "import multiprocessing\n",
    "\n",
    "def print_number(number):\n",
    "    print(f\"my number is {number}\")\n",
    "\n",
    "if __name__==\"__main__\":\n",
    "    processes=[]\n",
    "\n",
    "    for i in range(1,5):\n",
    "        process = multiprocessing.Process(target=print_number, args=(i, ))\n",
    "        processes.append(process)\n",
    "        process.start()\n",
    "    for process in processes:\n",
    "        process.join()"
   ]
  }
 ],
 "metadata": {
  "kernelspec": {
   "display_name": "Python 3.8.10 64-bit",
   "language": "python",
   "name": "python3"
  },
  "language_info": {
   "codemirror_mode": {
    "name": "ipython",
    "version": 3
   },
   "file_extension": ".py",
   "mimetype": "text/x-python",
   "name": "python",
   "nbconvert_exporter": "python",
   "pygments_lexer": "ipython3",
   "version": "3.8.10"
  },
  "orig_nbformat": 4,
  "vscode": {
   "interpreter": {
    "hash": "e7370f93d1d0cde622a1f8e1c04877d8463912d04d973331ad4851f04de6915a"
   }
  }
 },
 "nbformat": 4,
 "nbformat_minor": 2
}
