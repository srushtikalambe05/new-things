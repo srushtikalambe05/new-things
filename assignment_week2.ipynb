{
 "cells": [
  {
   "cell_type": "markdown",
   "id": "fad0f091-f3f1-41e4-98dc-cf980068ff0a",
   "metadata": {},
   "source": [
    "Q1.How do you comment code in Python? What are the different types of comments?"
   ]
  },
  {
   "cell_type": "code",
   "execution_count": 3,
   "id": "6850215c-6bed-414d-b6a7-1fceb3725b26",
   "metadata": {},
   "outputs": [
    {
     "name": "stdout",
     "output_type": "stream",
     "text": [
      "12\n"
     ]
    },
    {
     "data": {
      "text/plain": [
       "'she was tough, and she was brave. she always been confident about what she doing in her life and with her life even though many of them tried to pull her leg down she been tough'"
      ]
     },
     "execution_count": 3,
     "metadata": {},
     "output_type": "execute_result"
    }
   ],
   "source": [
    "# to comment a code in python we use \"#\" before writing any single line comment for example:-\n",
    "#assigning a value to a\n",
    "a=12\n",
    "#print it\n",
    "print(a)\n",
    "\n",
    "#and for a multiple line coment we use (\"\"\"  \"\"\") for example:-\n",
    "\"\"\"she was tough, and she was brave. she always been confident about what she doing in her life and with her life even though many of them tried to pull her leg down she been tough\"\"\""
   ]
  },
  {
   "cell_type": "markdown",
   "id": "e161fb0b-5223-4eec-a318-4fbc355bbcee",
   "metadata": {},
   "source": [
    "Q2. What are variables in Python? How do you declare and assign values to variables?"
   ]
  },
  {
   "cell_type": "code",
   "execution_count": 6,
   "id": "5e60e26b-2e26-47f6-874f-592f80876a82",
   "metadata": {},
   "outputs": [
    {
     "name": "stdout",
     "output_type": "stream",
     "text": [
      "Hello World!\n"
     ]
    }
   ],
   "source": [
    "#variables in python means to which we assign value, which get saved by system and every variable have unique id for example:-\n",
    "strng=\"Hello World!\"\n",
    "print(strng)\n",
    "# so strng is a variable and hello world is a value assigned to that variable\n",
    "#variables are of types like integer,string,boolen,float etc.\n"
   ]
  },
  {
   "cell_type": "markdown",
   "id": "78483256-ba13-463c-9ff0-91d144221874",
   "metadata": {},
   "source": [
    "Q3. How do you convert one data type to another in Python?"
   ]
  },
  {
   "cell_type": "code",
   "execution_count": 7,
   "id": "5909abd4-d623-4fbc-a178-14189acd0958",
   "metadata": {},
   "outputs": [
    {
     "name": "stdout",
     "output_type": "stream",
     "text": [
      "<class 'str'>\n",
      "<class 'int'>\n"
     ]
    }
   ],
   "source": [
    "intger=2 #data type=integer converting to string\n",
    "b=str(intger)\n",
    "print(type(b))\n",
    "flot=22.3 #data tpe= float converting to integer\n",
    "c=int(flot)\n",
    "print(type(c))\n",
    "#To convert any data type use the function as per your need for ex. int(), str()for example the above code \n"
   ]
  },
  {
   "cell_type": "markdown",
   "id": "7d1b4884-a7e5-4d2d-9d2d-32b8a49ac6c9",
   "metadata": {},
   "source": [
    "Q4. How do you write and execute a Python script from the command line?"
   ]
  },
  {
   "cell_type": "code",
   "execution_count": 17,
   "id": "b9a505ae-616b-40cc-b0b6-0fb1a9994ea1",
   "metadata": {},
   "outputs": [
    {
     "data": {
      "text/plain": [
       "'You need to open a command line and type the word python followed by the path to your script file like this: python first_script.py, .py is extinction for python file and hit enter afterthat and thats how you excute a python file.'"
      ]
     },
     "execution_count": 17,
     "metadata": {},
     "output_type": "execute_result"
    }
   ],
   "source": [
    "\"\"\"You need to open a command line and type the word python followed by the path to your script file like this: python first_script.py, .py is extinction for python file and hit enter afterthat and thats how you excute a python file.\"\"\""
   ]
  },
  {
   "cell_type": "markdown",
   "id": "04443ada-615d-43c6-b08a-c980b4dec3cb",
   "metadata": {},
   "source": [
    "Q5. Given a list my_list = [1, 2, 3, 4, 5], write the code to slice the list and obtain the sub-list [2, 3]."
   ]
  },
  {
   "cell_type": "code",
   "execution_count": 8,
   "id": "79b088f6-363d-4f18-a8a4-a6db3b83853c",
   "metadata": {},
   "outputs": [
    {
     "name": "stdout",
     "output_type": "stream",
     "text": [
      "[[2, 3]]\n"
     ]
    }
   ],
   "source": [
    "my_list=[1,2,3,4,5]\n",
    "sub_list=[my_list[1:3]]\n",
    "print(sub_list) "
   ]
  },
  {
   "cell_type": "markdown",
   "id": "a13e3e70-6ad2-49fd-931a-c4b12c75b3aa",
   "metadata": {},
   "source": [
    "Q6. What is a complex number in mathematics, and how is it represented in Python?"
   ]
  },
  {
   "cell_type": "code",
   "execution_count": 9,
   "id": "55a33b38-4f15-4abd-a977-c45b97bda146",
   "metadata": {},
   "outputs": [
    {
     "name": "stdout",
     "output_type": "stream",
     "text": [
      "<class 'complex'>\n"
     ]
    }
   ],
   "source": [
    "# In maths complex number is a number which can be expressed in the form of a+bi where 'a' & 'b' are real numbers and i is a complex number.\n",
    "# in python the complex number is a inbuilt syntax it is represented as a+bj where a is real part and bj is a imaginary part.\n",
    "#for ex.\n",
    "a=1+5j\n",
    "print(type(a))"
   ]
  },
  {
   "cell_type": "markdown",
   "id": "5782057a-b073-467f-af78-4fb7b8fc17ad",
   "metadata": {},
   "source": [
    "Q7. What is the correct way to declare a variable named age and assign the value 25 to it?"
   ]
  },
  {
   "cell_type": "code",
   "execution_count": 10,
   "id": "ef153cee-611b-4b68-9796-98a0c55865a4",
   "metadata": {},
   "outputs": [
    {
     "name": "stdout",
     "output_type": "stream",
     "text": [
      "25\n"
     ]
    }
   ],
   "source": [
    "#correct way to assign a value to variable \n",
    "age=25\n",
    "print(age)"
   ]
  },
  {
   "cell_type": "markdown",
   "id": "e54c4846-b919-4c96-bd03-a015a11ecd2f",
   "metadata": {},
   "source": [
    "Q8. Declare a variable named price and assign the value 9.99 to it. What data type does this variable\n",
    "belong to?"
   ]
  },
  {
   "cell_type": "code",
   "execution_count": 12,
   "id": "15401fa9-b015-4adf-8c45-4dca7c9edfcd",
   "metadata": {},
   "outputs": [
    {
     "name": "stdout",
     "output_type": "stream",
     "text": [
      "<class 'float'>\n"
     ]
    }
   ],
   "source": [
    "price=9.99\n",
    "print(type(price))"
   ]
  },
  {
   "cell_type": "markdown",
   "id": "9ea031a9-c267-4838-bea3-2551dc12c290",
   "metadata": {},
   "source": [
    "Q9. Create a variable named name and assign your full name to it as a string. How would you print the\n",
    "value of this variable?"
   ]
  },
  {
   "cell_type": "code",
   "execution_count": 13,
   "id": "aaa989f6-42cc-4c9c-9ad9-c1630a4bbb33",
   "metadata": {},
   "outputs": [
    {
     "name": "stdout",
     "output_type": "stream",
     "text": [
      "Srushti vitthal kalambe\n"
     ]
    }
   ],
   "source": [
    "name=\"Srushti vitthal kalambe\"\n",
    "print(name)\n"
   ]
  },
  {
   "cell_type": "markdown",
   "id": "ec9c6b25-cea3-433f-8f1e-91bfb8984f3e",
   "metadata": {},
   "source": [
    "Q10. Given the string \"Hello, World!\", extract the substring \"World\"."
   ]
  },
  {
   "cell_type": "code",
   "execution_count": 14,
   "id": "e069d57f-a3f9-43ce-8c51-343dd9c23731",
   "metadata": {},
   "outputs": [
    {
     "name": "stdout",
     "output_type": "stream",
     "text": [
      "World!\n"
     ]
    }
   ],
   "source": [
    "a=\"Hello World!\"\n",
    "b=a[6:12]\n",
    "print(b)"
   ]
  },
  {
   "cell_type": "markdown",
   "id": "436e4978-3033-4601-b36b-7969528eb5b1",
   "metadata": {},
   "source": [
    "Q11. Create a variable named \"is_student\" and assign it a boolean value indicating whether you are\n",
    "currently a student or not."
   ]
  },
  {
   "cell_type": "code",
   "execution_count": 15,
   "id": "5e383348-8dbd-41cc-a199-a79f3beec988",
   "metadata": {},
   "outputs": [
    {
     "name": "stdout",
     "output_type": "stream",
     "text": [
      "True\n"
     ]
    }
   ],
   "source": [
    "is_student=True\n",
    "print(is_student)\n"
   ]
  }
 ],
 "metadata": {
  "kernelspec": {
   "display_name": "Python 3 (ipykernel)",
   "language": "python",
   "name": "python3"
  },
  "language_info": {
   "codemirror_mode": {
    "name": "ipython",
    "version": 3
   },
   "file_extension": ".py",
   "mimetype": "text/x-python",
   "name": "python",
   "nbconvert_exporter": "python",
   "pygments_lexer": "ipython3",
   "version": "3.10.8"
  }
 },
 "nbformat": 4,
 "nbformat_minor": 5
}
