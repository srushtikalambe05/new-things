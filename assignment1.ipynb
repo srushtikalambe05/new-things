{
 "cells": [
  {
   "cell_type": "code",
   "execution_count": 1,
   "id": "014d5842-790b-4e5f-8df7-f8f58050093b",
   "metadata": {},
   "outputs": [
    {
     "name": "stdout",
     "output_type": "stream",
     "text": [
      "hello\n",
      "['yello,red,45,33,45.8,5-6j']\n",
      "33.8\n",
      "('pc', 'mouse', 66, 89, 90.6)\n"
     ]
    }
   ],
   "source": [
    "#assignmet question no. 1:-\n",
    "a=\"hello\" #string\n",
    "b=[\"yello,red,45,33,45.8,5-6j\"] #list\n",
    "c= 33.8 #float\n",
    "d=(\"pc\",\"mouse\",66,89,90.6) #tuple\n",
    "print(a)\n",
    "print(b)\n",
    "print(c)\n",
    "print(d)\n"
   ]
  },
  {
   "cell_type": "code",
   "execution_count": 2,
   "id": "87f55571-e963-4586-b83d-3ac3f5a3357a",
   "metadata": {},
   "outputs": [
    {
     "name": "stdout",
     "output_type": "stream",
     "text": [
      "<class 'str'>\n",
      "<class 'str'>\n",
      "<class 'list'>\n",
      "<class 'float'>\n"
     ]
    }
   ],
   "source": [
    "#question no. 2:-\n",
    "var1=\"\"\n",
    "print(type(var1))\n",
    "var2='[DS,ML,Python]'\n",
    "print(type(var2))\n",
    "var3=['DS','ML','python']\n",
    "print(type(var3))\n",
    "var4=1.\n",
    "print(type(var4))\n"
   ]
  },
  {
   "cell_type": "code",
   "execution_count": 3,
   "id": "c0848ac6-8976-4c30-b51a-d5528067a111",
   "metadata": {},
   "outputs": [
    {
     "name": "stdout",
     "output_type": "stream",
     "text": [
      "2.0\n",
      "2\n",
      "0\n",
      "81\n"
     ]
    }
   ],
   "source": [
    "# question no.3 :-\n",
    "v=20/10\n",
    "print(v)\n",
    "h=2%50\n",
    "print(h)\n",
    "j=5//8\n",
    "print(j)\n",
    "k=9**2\n",
    "print(k)\n"
   ]
  },
  {
   "cell_type": "code",
   "execution_count": 4,
   "id": "28cef684-7482-4a09-bc14-f1e14b5316e8",
   "metadata": {},
   "outputs": [
    {
     "name": "stdout",
     "output_type": "stream",
     "text": [
      "1\n",
      "<class 'int'>\n",
      "2\n",
      "<class 'int'>\n",
      "3\n",
      "<class 'int'>\n",
      "4\n",
      "<class 'int'>\n",
      "5\n",
      "<class 'int'>\n",
      "hello\n",
      "<class 'str'>\n",
      "world\n",
      "<class 'str'>\n",
      "34.6\n",
      "<class 'float'>\n",
      "55.8\n",
      "<class 'float'>\n",
      "(25-8j)\n",
      "<class 'complex'>\n"
     ]
    }
   ],
   "source": [
    "#question no. 4:-\n",
    "l=[1,2,3,4,5,\"hello\",\"world\",34.6,55.8,25-8j]\n",
    "for i in l:\n",
    "    print(i)\n",
    "    print(type(i))"
   ]
  },
  {
   "cell_type": "code",
   "execution_count": 2,
   "id": "01ee3db7-e8a6-4902-b560-b206ebe9bcbf",
   "metadata": {},
   "outputs": [
    {
     "name": "stdin",
     "output_type": "stream",
     "text": [
      "enter number=a 27\n",
      "enter number=b 3\n"
     ]
    },
    {
     "name": "stdout",
     "output_type": "stream",
     "text": [
      "a is divisible by b and can be divide 3 times\n"
     ]
    }
   ],
   "source": [
    "#question no.5:-\n",
    "a=int(input(\"enter number=a\"))\n",
    "b=int(input(\"enter number=b\"))\n",
    "count=0\n",
    "while a%b==0:\n",
    "    count+=1\n",
    "    a=a/b\n",
    "if count>a:\n",
    "    print(f\"a is divisible by b and can be divide {count} times\")\n",
    "else:\n",
    "    print(\"a is not divisible by b\")\n",
    "    "
   ]
  },
  {
   "cell_type": "code",
   "execution_count": 3,
   "id": "3f649a8a-d09a-48c7-89ea-0bacf9f01946",
   "metadata": {},
   "outputs": [
    {
     "name": "stdout",
     "output_type": "stream",
     "text": [
      "[1, 2, 3, 4, 5, 6, 7, 8, 9, 10, 11, 12, 13, 14, 15, 16, 17, 18, 19, 20, 21, 22, 23, 24, 25]\n",
      "3 is divisible by three\n",
      "6 is divisible by three\n",
      "9 is divisible by three\n",
      "12 is divisible by three\n",
      "15 is divisible by three\n",
      "18 is divisible by three\n",
      "21 is divisible by three\n",
      "24 is divisible by three\n",
      "25 is not divisible by three\n"
     ]
    }
   ],
   "source": [
    "#question no. 6:-\n",
    "l=[1,2,3,4,5,6,7,8,9,10,11,12,13,14,15,16,17,18,19,20,21,22,23,24,25]\n",
    "print(l)\n",
    "for number in l:\n",
    "   if number%3==0:\n",
    "       print(f\"{number} is divisible by three\")\n",
    "else:\n",
    "    print(f\"{number} is not divisible by three\")"
   ]
  },
  {
   "cell_type": "code",
   "execution_count": 1,
   "id": "b7800a68-a9b9-4e5c-8f25-9abbed7c7ae9",
   "metadata": {},
   "outputs": [
    {
     "ename": "AttributeError",
     "evalue": "'tuple' object has no attribute 'append'",
     "output_type": "error",
     "traceback": [
      "\u001b[0;31m---------------------------------------------------------------------------\u001b[0m",
      "\u001b[0;31mAttributeError\u001b[0m                            Traceback (most recent call last)",
      "Cell \u001b[0;32mIn[1], line 12\u001b[0m\n\u001b[1;32m     10\u001b[0m \u001b[38;5;66;03m#example of immutable\u001b[39;00m\n\u001b[1;32m     11\u001b[0m t\u001b[38;5;241m=\u001b[39m(\u001b[38;5;241m3\u001b[39m,\u001b[38;5;241m4\u001b[39m,\u001b[38;5;241m5\u001b[39m)\n\u001b[0;32m---> 12\u001b[0m \u001b[43mt\u001b[49m\u001b[38;5;241;43m.\u001b[39;49m\u001b[43mappend\u001b[49m(\u001b[38;5;241m6\u001b[39m)\n",
      "\u001b[0;31mAttributeError\u001b[0m: 'tuple' object has no attribute 'append'"
     ]
    }
   ],
   "source": [
    "#question no. 7:-\n",
    "#mutable data type means we can make change in values of the variables and immutable means we cant make changes and the value remains same even if we wrote new code using new value it will have the unique value to that \n",
    "#mutable data types are: list,dictinary,sets\n",
    "#immutable data types are: string,integer,float,tuples\n",
    "\n",
    "#example of mutable data type\n",
    "l=[2,3,4]\n",
    "l.append(5)\n",
    "\n",
    "#example of immutable\n",
    "t=(3,4,5)\n",
    "t.append(6)\n"
   ]
  },
  {
   "cell_type": "code",
   "execution_count": null,
   "id": "34aa5c9a-5d42-495c-8eb1-8e22e5dfa35a",
   "metadata": {},
   "outputs": [],
   "source": [
    "#as we can see immutable gets an error."
   ]
  }
 ],
 "metadata": {
  "kernelspec": {
   "display_name": "Python 3 (ipykernel)",
   "language": "python",
   "name": "python3"
  },
  "language_info": {
   "codemirror_mode": {
    "name": "ipython",
    "version": 3
   },
   "file_extension": ".py",
   "mimetype": "text/x-python",
   "name": "python",
   "nbconvert_exporter": "python",
   "pygments_lexer": "ipython3",
   "version": "3.10.8"
  }
 },
 "nbformat": 4,
 "nbformat_minor": 5
}
