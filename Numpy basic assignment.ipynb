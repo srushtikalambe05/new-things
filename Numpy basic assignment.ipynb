{
 "cells": [
  {
   "cell_type": "markdown",
   "id": "5b252315-2672-4c3a-875e-d841fad6c935",
   "metadata": {
    "tags": []
   },
   "source": [
    "# Numpy Assignment"
   ]
  },
  {
   "cell_type": "markdown",
   "id": "83887db1-9e4e-4443-8cee-5baa8756ff85",
   "metadata": {
    "tags": []
   },
   "source": [
    "# Question no. 1 "
   ]
  },
  {
   "cell_type": "code",
   "execution_count": 1,
   "id": "eba259b2-6993-4407-bbbf-aab424910f9b",
   "metadata": {},
   "outputs": [],
   "source": [
    "import numpy as np"
   ]
  },
  {
   "cell_type": "code",
   "execution_count": 2,
   "id": "5fec47b9-f53e-42b4-86ec-9e0c4b9c113e",
   "metadata": {},
   "outputs": [],
   "source": [
    "list_ = ['1','2','3','4','5']"
   ]
  },
  {
   "cell_type": "code",
   "execution_count": 3,
   "id": "91f5c1cf-e74a-4ee6-828f-ebd2d4339598",
   "metadata": {},
   "outputs": [],
   "source": [
    "array_list = np.array(object = list_)"
   ]
  },
  {
   "cell_type": "code",
   "execution_count": 4,
   "id": "b2a27b8a-5f82-4214-acaa-278b23256175",
   "metadata": {},
   "outputs": [
    {
     "data": {
      "text/plain": [
       "array(['1', '2', '3', '4', '5'], dtype='<U1')"
      ]
     },
     "execution_count": 4,
     "metadata": {},
     "output_type": "execute_result"
    }
   ],
   "source": [
    "array_list"
   ]
  },
  {
   "cell_type": "code",
   "execution_count": 5,
   "id": "c17f6b2d-1d45-4d02-8e33-fcaba75e8d23",
   "metadata": {},
   "outputs": [
    {
     "data": {
      "text/plain": [
       "list"
      ]
     },
     "execution_count": 5,
     "metadata": {},
     "output_type": "execute_result"
    }
   ],
   "source": [
    "type(list_)"
   ]
  },
  {
   "cell_type": "markdown",
   "id": "13078e6d-90fb-4753-bf7d-f91b1bb16111",
   "metadata": {},
   "source": [
    "Yes there is a difference in the data types of the variables \"list_\" and \"array_list\". The \"list_\" in Python list nad \"array_list\" is Numpy array."
   ]
  },
  {
   "cell_type": "code",
   "execution_count": 6,
   "id": "104c9afc-7151-4d0d-a86d-b51d3f50711d",
   "metadata": {},
   "outputs": [
    {
     "name": "stdout",
     "output_type": "stream",
     "text": [
      "data type of list_ : <class 'numpy.ndarray'>\n"
     ]
    }
   ],
   "source": [
    "print(\"data type of list_ :\",type(array_list))"
   ]
  },
  {
   "cell_type": "code",
   "execution_count": 7,
   "id": "a8b60976-e188-42aa-a29e-6152cc66f773",
   "metadata": {},
   "outputs": [
    {
     "name": "stdout",
     "output_type": "stream",
     "text": [
      "data type of the array_list : <class 'list'>\n"
     ]
    }
   ],
   "source": [
    "print(\"data type of the array_list :\" ,type(list_))"
   ]
  },
  {
   "cell_type": "markdown",
   "id": "225be84a-8218-4fb8-82e5-dfede75137fd",
   "metadata": {
    "tags": []
   },
   "source": [
    "# Question no. 2:"
   ]
  },
  {
   "cell_type": "code",
   "execution_count": 8,
   "id": "f6aa343e-126d-4e93-880b-6a930d2b1b79",
   "metadata": {},
   "outputs": [
    {
     "name": "stdout",
     "output_type": "stream",
     "text": [
      "<class 'str'>\n",
      "<class 'str'>\n",
      "<class 'str'>\n",
      "<class 'str'>\n",
      "<class 'str'>\n"
     ]
    }
   ],
   "source": [
    "for i in list_:\n",
    "    print(type(i))"
   ]
  },
  {
   "cell_type": "code",
   "execution_count": 9,
   "id": "27179e65-f5a7-4d46-8ebf-a93e4f007ba2",
   "metadata": {},
   "outputs": [
    {
     "name": "stdout",
     "output_type": "stream",
     "text": [
      "<class 'numpy.str_'>\n",
      "<class 'numpy.str_'>\n",
      "<class 'numpy.str_'>\n",
      "<class 'numpy.str_'>\n",
      "<class 'numpy.str_'>\n"
     ]
    }
   ],
   "source": [
    "for j in array_list:\n",
    "    print(type(j))"
   ]
  },
  {
   "cell_type": "markdown",
   "id": "7b3f9371-ed0a-4d6f-bdf8-20356102e2fb",
   "metadata": {
    "tags": []
   },
   "source": [
    "# Question no.3:"
   ]
  },
  {
   "cell_type": "code",
   "execution_count": 10,
   "id": "e53a2033-6f7a-48f7-a512-59666b4058c9",
   "metadata": {},
   "outputs": [],
   "source": [
    "array_list = np.array(object = list_,dtype = int)"
   ]
  },
  {
   "cell_type": "code",
   "execution_count": 11,
   "id": "2e8c8bd3-8f70-44f4-8b25-d88e3dd5c113",
   "metadata": {},
   "outputs": [
    {
     "data": {
      "text/plain": [
       "array([1, 2, 3, 4, 5])"
      ]
     },
     "execution_count": 11,
     "metadata": {},
     "output_type": "execute_result"
    }
   ],
   "source": [
    "array_list"
   ]
  },
  {
   "cell_type": "code",
   "execution_count": 12,
   "id": "68f4fdbd-a9ec-4c42-ac5e-76c77952786c",
   "metadata": {},
   "outputs": [
    {
     "name": "stdout",
     "output_type": "stream",
     "text": [
      "<class 'numpy.int64'>\n",
      "<class 'numpy.int64'>\n",
      "<class 'numpy.int64'>\n",
      "<class 'numpy.int64'>\n",
      "<class 'numpy.int64'>\n"
     ]
    }
   ],
   "source": [
    "for j in array_list:\n",
    "    print(type(j))"
   ]
  },
  {
   "cell_type": "code",
   "execution_count": 13,
   "id": "5be60b35-015d-4439-95f5-e35600224cb1",
   "metadata": {},
   "outputs": [
    {
     "name": "stdout",
     "output_type": "stream",
     "text": [
      "<class 'str'>\n",
      "<class 'str'>\n",
      "<class 'str'>\n",
      "<class 'str'>\n",
      "<class 'str'>\n"
     ]
    }
   ],
   "source": [
    "for i in list_:\n",
    "    print(type(i))"
   ]
  },
  {
   "cell_type": "markdown",
   "id": "34c95a2d-5e5d-4f46-9baa-5ad8d6e39d7c",
   "metadata": {},
   "source": [
    "As we can see abovethe type of List is str and the type of array_list is int so they are not same "
   ]
  },
  {
   "cell_type": "markdown",
   "id": "139fc5c4-1198-480a-99fb-497fd734b8bb",
   "metadata": {
    "tags": []
   },
   "source": [
    "# Question no.4:"
   ]
  },
  {
   "cell_type": "code",
   "execution_count": 14,
   "id": "be68b321-6025-4208-8b01-7db25dd6572e",
   "metadata": {},
   "outputs": [],
   "source": [
    "num_list = [[1,2,3] ,[4,5,6]]"
   ]
  },
  {
   "cell_type": "code",
   "execution_count": 15,
   "id": "c6e44381-4bab-45a0-800d-a5603c32a6af",
   "metadata": {},
   "outputs": [],
   "source": [
    "num_array = np.array(object = num_list)"
   ]
  },
  {
   "cell_type": "code",
   "execution_count": 16,
   "id": "1883d33b-d859-4221-b207-9a0d3493047b",
   "metadata": {},
   "outputs": [
    {
     "data": {
      "text/plain": [
       "(2, 3)"
      ]
     },
     "execution_count": 16,
     "metadata": {},
     "output_type": "execute_result"
    }
   ],
   "source": [
    "num_array.shape"
   ]
  },
  {
   "cell_type": "code",
   "execution_count": 18,
   "id": "84a8d2b4-a569-46ff-88ce-b79ae86fbed0",
   "metadata": {},
   "outputs": [
    {
     "data": {
      "text/plain": [
       "6"
      ]
     },
     "execution_count": 18,
     "metadata": {},
     "output_type": "execute_result"
    }
   ],
   "source": [
    "num_array.size"
   ]
  },
  {
   "cell_type": "markdown",
   "id": "dea9e96a-1ea2-4017-a129-d08a0686cc55",
   "metadata": {
    "tags": []
   },
   "source": [
    "# Question no.5:"
   ]
  },
  {
   "cell_type": "code",
   "execution_count": 25,
   "id": "b7844fe1-5eb4-4227-880a-b0095e42fde1",
   "metadata": {},
   "outputs": [],
   "source": [
    "arr = np.zeros((3,3))"
   ]
  },
  {
   "cell_type": "code",
   "execution_count": 26,
   "id": "f8a2d3e2-2308-48cf-b72d-8bd19a310199",
   "metadata": {},
   "outputs": [
    {
     "data": {
      "text/plain": [
       "array([[0., 0., 0.],\n",
       "       [0., 0., 0.],\n",
       "       [0., 0., 0.]])"
      ]
     },
     "execution_count": 26,
     "metadata": {},
     "output_type": "execute_result"
    }
   ],
   "source": [
    "arr"
   ]
  },
  {
   "cell_type": "markdown",
   "id": "f9691788-a8ab-4921-839f-d5c9963db4c4",
   "metadata": {
    "tags": []
   },
   "source": [
    "# Question no.6 :"
   ]
  },
  {
   "cell_type": "code",
   "execution_count": 31,
   "id": "fdd279e6-e48b-4983-ace7-82ad36261e74",
   "metadata": {},
   "outputs": [],
   "source": [
    "arr1 = np.eye(5,5)"
   ]
  },
  {
   "cell_type": "code",
   "execution_count": 32,
   "id": "1fda6ce2-9672-4177-a26d-fd572a2eaedc",
   "metadata": {},
   "outputs": [
    {
     "data": {
      "text/plain": [
       "array([[1., 0., 0., 0., 0.],\n",
       "       [0., 1., 0., 0., 0.],\n",
       "       [0., 0., 1., 0., 0.],\n",
       "       [0., 0., 0., 1., 0.],\n",
       "       [0., 0., 0., 0., 1.]])"
      ]
     },
     "execution_count": 32,
     "metadata": {},
     "output_type": "execute_result"
    }
   ],
   "source": [
    "arr1"
   ]
  },
  {
   "cell_type": "code",
   "execution_count": null,
   "id": "48e926e9-4848-4675-ada3-287ba832e087",
   "metadata": {},
   "outputs": [],
   "source": []
  }
 ],
 "metadata": {
  "kernelspec": {
   "display_name": "Python 3 (ipykernel)",
   "language": "python",
   "name": "python3"
  },
  "language_info": {
   "codemirror_mode": {
    "name": "ipython",
    "version": 3
   },
   "file_extension": ".py",
   "mimetype": "text/x-python",
   "name": "python",
   "nbconvert_exporter": "python",
   "pygments_lexer": "ipython3",
   "version": "3.10.8"
  }
 },
 "nbformat": 4,
 "nbformat_minor": 5
}
