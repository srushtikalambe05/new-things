{
 "cells": [
  {
   "cell_type": "markdown",
   "id": "66805f2d-a3c9-4919-97e0-03c1a6a199ad",
   "metadata": {},
   "source": [
    "# STATISTICS BASICS"
   ]
  },
  {
   "cell_type": "markdown",
   "id": "8793861f-4e9e-46e2-8e83-87f1619445b6",
   "metadata": {},
   "source": [
    "Question no. 1 :-"
   ]
  },
  {
   "cell_type": "markdown",
   "id": "1f9b030e-c45b-450b-8148-f091dd879084",
   "metadata": {},
   "source": [
    "Statistics is a science of collecting and processing and analysing data to form a conclusion."
   ]
  },
  {
   "cell_type": "markdown",
   "id": "a03ff1a2-d950-4b9a-9bac-75ed359d567c",
   "metadata": {},
   "source": [
    "Question no. 2:-"
   ]
  },
  {
   "cell_type": "markdown",
   "id": "04020c68-619d-4f24-96e9-d094d300ea80",
   "metadata": {},
   "source": [
    "There ar two types of statistics \n",
    "1) descriptive\n",
    "2) inferential\n",
    "\n",
    "Descriptive statistics summarize data from a sample or population using various measures to understand its central tendency and other key features.\n",
    "\n",
    "Inferential statistics use sample data to draw conclusions about the larger population from which it came. this involves estimating population parameters,testing hypotheses and making predictions with an acceptable level of uncertainty."
   ]
  },
  {
   "cell_type": "markdown",
   "id": "7633f7ff-4755-4deb-a8a2-875303440cd2",
   "metadata": {},
   "source": [
    "Question no.3 :-"
   ]
  },
  {
   "cell_type": "markdown",
   "id": "a12472c6-0e95-4433-93d1-e8426dd3bb5b",
   "metadata": {},
   "source": [
    "The different types of data are \n",
    "1) Quantitative\n",
    "2) Qualitative\n",
    "\n",
    "Quantitative data refers to numerical value and further it is parted in 2 ways that is \"discrete\" and \"continuous\".\n",
    "for example: \n",
    "1) discrete: Number of cars, number of roads in city etc.\n",
    "2) continous : height, weight , liters of water etc.\n",
    "\n",
    "Qualitative data refers to categorical data and further it has two types which are \"Nominal\" and \"Ordinal\".\n",
    "for example:\n",
    "1) nominal: male or female, colors, etc.\n",
    "2) ordinal: ranking, (good, bad, worst)"
   ]
  },
  {
   "cell_type": "markdown",
   "id": "f7d753ea-ada0-48c1-84cb-1834eb619add",
   "metadata": {},
   "source": [
    "Questions no.4 :-\n",
    "\n",
    "1) Grading in exam: A=,A,B+,B,C+,C,D,E\n",
    "\n",
    "ans. Qualitative data\n",
    "\n",
    "2) Colour of mangoes: Yellow,green,orange,red\n",
    "\n",
    "ans. Qualitative data\n",
    "\n",
    "3) Height data of a class:[178.9,179,179.5,176,177.2,178,175.8,....]\n",
    "\n",
    "ans. Quantitative\n",
    "\n",
    "4) Number of mangoes exported by a farm:[500,600,478,672,...]\n",
    "\n",
    "ans. Quantitative"
   ]
  },
  {
   "cell_type": "markdown",
   "id": "d7745cc7-24b6-4a45-abc9-29929fec6854",
   "metadata": {},
   "source": [
    "Question no.5 :-"
   ]
  },
  {
   "cell_type": "markdown",
   "id": "61c5e897-0c31-4118-8549-68d854ec0906",
   "metadata": {},
   "source": [
    "Levels of measurement are classification  that describes the nature of information within the values assigned to variables. They are crucial in statistics because they determine the appropriate ststitical methods that can be used to analyze a variable.\n",
    "\n",
    "4 Level of measurement are;\n",
    "\n",
    "1) Nominal level\n",
    "2) Ordinal level\n",
    "3) Interval level\n",
    "4) Ratio level"
   ]
  },
  {
   "cell_type": "markdown",
   "id": "d3e9299b-7e9f-4b7f-971e-1e46d7b684c4",
   "metadata": {},
   "source": [
    "Question no. 6 :-"
   ]
  },
  {
   "cell_type": "markdown",
   "id": "68830967-8aac-4974-a2ed-912f74e08a77",
   "metadata": {},
   "source": [
    "Understanding the level of measurement is crucial in data analysis,\n",
    "\n",
    "1) choosing the right statistical tests\n",
    "for example: You want to analyze the relationship between educational level and annual income. Using a t-test , which assumes interval data, would be inappropriate here.Instead you might use a chi-square test, suitable for nominal data relationship.\n",
    "\n",
    "2) Interpreting data correctly\n",
    "for example: Saying the average hair color in a class is \"Brown\" dosen't make sense , while calculating the average age of students is meaningful.\n",
    "\n",
    "3) Avoiding misleading comparisons\n",
    "for example: Comparing customer satisfaction ratings with income levels wouldn't directly tell you if higher income leads to higher satisfaction.\n",
    "\n"
   ]
  },
  {
   "cell_type": "markdown",
   "id": "411ea731-bd43-4275-9736-7eb2d76ddae1",
   "metadata": {},
   "source": [
    "Question no.7 :-"
   ]
  },
  {
   "cell_type": "markdown",
   "id": "740e4006-9be2-4aee-9d31-939f804f351c",
   "metadata": {},
   "source": [
    "Both the data type come under qualitative data type\n",
    "but in nominala data type order dosen't matter but in the case of ordinal data type the ranking and order matters.In nominal data type we measure a diff but not in ordinal data type."
   ]
  },
  {
   "cell_type": "markdown",
   "id": "b132bcc1-5653-4c13-b0d2-c03cc7b92080",
   "metadata": {},
   "source": [
    "Question no.8 :-"
   ]
  },
  {
   "cell_type": "markdown",
   "id": "f12e0307-9f6a-4f24-8e99-961b1e086c36",
   "metadata": {},
   "source": [
    "We use Histogram to display data in terms of range."
   ]
  },
  {
   "cell_type": "markdown",
   "id": "45a3085e-7e7c-4218-8316-3f020dc1df7c",
   "metadata": {},
   "source": [
    "Question no.8 :-"
   ]
  },
  {
   "cell_type": "markdown",
   "id": "4bb5e131-26bf-45fc-8de8-358ec191d4a3",
   "metadata": {},
   "source": [
    "Descriptive Statistics:\n",
    "\n",
    "Imagine you're exploring a new city for the first time. You wander around, taking in the sights and sounds, forming a general impression of the place. Descriptive statistics are like that first walk—they summarize the key characteristics of a dataset without drawing conclusions beyond it.\n",
    "\n",
    "Focus: Summarizing and describing data within a dataset.\n",
    "Methods: Measures like mean, median, mode, range, standard deviation, variance, frequency tables, histograms, boxplots, etc.\n",
    "Use: Understanding the data's central tendency, spread, distribution, and relationships between variables within the dataset.\n",
    "Example: You measure the heights of all the students in your class. Descriptive statistics would tell you the average height, the range of heights, how many students fall within certain height ranges, and perhaps how height relates to shoe size (within your class only).\n",
    "\n"
   ]
  }
 ],
 "metadata": {
  "kernelspec": {
   "display_name": "Python 3 (ipykernel)",
   "language": "python",
   "name": "python3"
  },
  "language_info": {
   "codemirror_mode": {
    "name": "ipython",
    "version": 3
   },
   "file_extension": ".py",
   "mimetype": "text/x-python",
   "name": "python",
   "nbconvert_exporter": "python",
   "pygments_lexer": "ipython3",
   "version": "3.10.8"
  }
 },
 "nbformat": 4,
 "nbformat_minor": 5
}
