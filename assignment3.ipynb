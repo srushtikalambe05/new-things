{
 "cells": [
  {
   "cell_type": "markdown",
   "id": "e9a877a9-954b-45f9-8385-3f0763d6abee",
   "metadata": {},
   "source": [
    "Python assignment 3"
   ]
  },
  {
   "cell_type": "markdown",
   "id": "2c2a1a4f-ab99-421f-98b9-59b8371ec626",
   "metadata": {},
   "source": [
    "Question no. 1:-"
   ]
  },
  {
   "cell_type": "code",
   "execution_count": 1,
   "id": "d70da3c4-57a2-4709-bcb7-d58492379aa2",
   "metadata": {},
   "outputs": [
    {
     "name": "stdout",
     "output_type": "stream",
     "text": [
      "virat kolhi: 24936 runs\n",
      "jack kallis: 25534 runs\n",
      "ricky ponting: 27483 runs\n",
      "sachin tendulkar: 34357 runs\n"
     ]
    }
   ],
   "source": [
    "l=[(\"sachin tendulkar\",34357),(\"ricky ponting\", 27483),(\"jack kallis\",25534),(\"virat kolhi\",24936)]\n",
    "sort = sorted(l, key=lambda x: x[1])\n",
    "\n",
    "for player, runs in sort:\n",
    "    print(f\"{player}: {runs} runs\")"
   ]
  },
  {
   "cell_type": "markdown",
   "id": "5aa2f8e1-c73c-4a40-a3e5-da6ad240a707",
   "metadata": {},
   "source": [
    "Question no. 2:-"
   ]
  },
  {
   "cell_type": "code",
   "execution_count": 2,
   "id": "df70609b-0fab-4759-b257-6755b3f9ceaf",
   "metadata": {},
   "outputs": [
    {
     "name": "stdout",
     "output_type": "stream",
     "text": [
      "[1, 4, 9, 16, 25, 36, 49, 64, 81, 100]\n"
     ]
    }
   ],
   "source": [
    "l1=[1,2,3,4,5,6,7,8,9,10]\n",
    "\n",
    "print(list(map(lambda x: x**2,l1)))"
   ]
  },
  {
   "cell_type": "markdown",
   "id": "e92b5677-6815-45bc-8e69-0cc711ba3a68",
   "metadata": {},
   "source": [
    "Question no. 3:-"
   ]
  },
  {
   "cell_type": "code",
   "execution_count": 3,
   "id": "923d0e36-02b4-4eb2-abbe-ee091ed81b27",
   "metadata": {},
   "outputs": [
    {
     "name": "stdout",
     "output_type": "stream",
     "text": [
      "('1', '2', '3', '4', '5', '6', '7', '8', '9', '10')\n"
     ]
    }
   ],
   "source": [
    "given_strng=[1,2,3,4,5,6,7,8,9,10]\n",
    "print(tuple(map(lambda x: str(x), given_strng)))"
   ]
  },
  {
   "cell_type": "markdown",
   "id": "8ba09e4c-589b-41a2-b353-361c83bc70ee",
   "metadata": {},
   "source": [
    "Question no. 4:-"
   ]
  },
  {
   "cell_type": "code",
   "execution_count": 4,
   "id": "6bb2f7a3-e11a-4d85-aafc-a94cdc682797",
   "metadata": {},
   "outputs": [
    {
     "name": "stdout",
     "output_type": "stream",
     "text": [
      "[1, 2, 3, 4, 5, 6, 7, 8, 9, 10, 11, 12, 13, 14, 15, 16, 17, 18, 19, 20, 21, 22, 23, 24, 25]\n"
     ]
    },
    {
     "data": {
      "text/plain": [
       "15511210043330985984000000"
      ]
     },
     "execution_count": 4,
     "metadata": {},
     "output_type": "execute_result"
    }
   ],
   "source": [
    "from functools import reduce\n",
    "l=list(range(1,26))\n",
    "print(l)\n",
    "reduce(lambda x,y:x*y,l)\n"
   ]
  },
  {
   "cell_type": "markdown",
   "id": "653da205-959b-4733-9342-dfdfb3196d6a",
   "metadata": {},
   "source": [
    "Questin no. 5:-"
   ]
  },
  {
   "cell_type": "code",
   "execution_count": 5,
   "id": "efd0d295-26a1-41d9-8b2d-1bfbbf8924b3",
   "metadata": {},
   "outputs": [
    {
     "name": "stdout",
     "output_type": "stream",
     "text": [
      "[6, 60, 90, 120]\n"
     ]
    }
   ],
   "source": [
    "l2=[2, 3, 6, 9, 27, 60, 90, 120, 55, 46]\n",
    "b=list(filter(lambda x : x%2==0 and x%3==0,l2))\n",
    "print(b)"
   ]
  },
  {
   "cell_type": "markdown",
   "id": "2c9f9e49-9001-468b-91ad-cdc608b7b6ec",
   "metadata": {},
   "source": [
    "Question no. 6:-"
   ]
  },
  {
   "cell_type": "code",
   "execution_count": 6,
   "id": "5b575788-7e92-476d-93a2-57573641b225",
   "metadata": {},
   "outputs": [
    {
     "name": "stdout",
     "output_type": "stream",
     "text": [
      "['php', 'aba', 'radar', 'level']\n"
     ]
    }
   ],
   "source": [
    "a=['python', 'php', 'aba', 'radar', 'level']\n",
    "c=list(filter(lambda x: x==x[::-1],a))\n",
    "print(c)"
   ]
  }
 ],
 "metadata": {
  "kernelspec": {
   "display_name": "Python 3 (ipykernel)",
   "language": "python",
   "name": "python3"
  },
  "language_info": {
   "codemirror_mode": {
    "name": "ipython",
    "version": 3
   },
   "file_extension": ".py",
   "mimetype": "text/x-python",
   "name": "python",
   "nbconvert_exporter": "python",
   "pygments_lexer": "ipython3",
   "version": "3.10.8"
  }
 },
 "nbformat": 4,
 "nbformat_minor": 5
}
