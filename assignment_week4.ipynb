{
 "cells": [
  {
   "cell_type": "markdown",
   "id": "a4137840-03b7-4a7d-96c2-bd3beeba5f14",
   "metadata": {},
   "source": [
    "Question no. 1:-"
   ]
  },
  {
   "cell_type": "code",
   "execution_count": 16,
   "id": "7711cddd-3dea-4483-b130-c11ff6861cf1",
   "metadata": {},
   "outputs": [],
   "source": [
    "class vehicle:\n",
    "    \n",
    "    def __init__(self, name_of_vehicle, max_speed, average_of_vehicle):\n",
    "        self.name_of_vehicle = name_of_vehicle\n",
    "        self.max_speed = max_speed\n",
    "        self.average_of_vehicle = average_of_vehicle\n",
    "        "
   ]
  },
  {
   "cell_type": "code",
   "execution_count": 5,
   "id": "3aa8764a-caa6-4e73-8c22-294dd083a4e7",
   "metadata": {},
   "outputs": [],
   "source": [
    "V1= vehicle(\"bullet\", 120 , \"30-40 km/l\")"
   ]
  },
  {
   "cell_type": "code",
   "execution_count": 6,
   "id": "957e2c6a-4c28-4173-aba0-175ff6b7df71",
   "metadata": {},
   "outputs": [
    {
     "data": {
      "text/plain": [
       "'30-40 km/l'"
      ]
     },
     "execution_count": 6,
     "metadata": {},
     "output_type": "execute_result"
    }
   ],
   "source": [
    "V1.average_of_vehicle"
   ]
  },
  {
   "cell_type": "code",
   "execution_count": 7,
   "id": "05b0e411-5b01-47d2-83b6-fa380d02c526",
   "metadata": {},
   "outputs": [
    {
     "data": {
      "text/plain": [
       "120"
      ]
     },
     "execution_count": 7,
     "metadata": {},
     "output_type": "execute_result"
    }
   ],
   "source": [
    "V1.max_speed"
   ]
  },
  {
   "cell_type": "code",
   "execution_count": 8,
   "id": "ff8ca6de-ba43-42b5-acae-ef23f80c2895",
   "metadata": {},
   "outputs": [
    {
     "data": {
      "text/plain": [
       "'bullet'"
      ]
     },
     "execution_count": 8,
     "metadata": {},
     "output_type": "execute_result"
    }
   ],
   "source": [
    "V1.name_of_vehicle"
   ]
  },
  {
   "cell_type": "markdown",
   "id": "16d6f79b-c272-4da2-bf0d-6cb461880d81",
   "metadata": {},
   "source": [
    "Question no.2 :-"
   ]
  },
  {
   "cell_type": "code",
   "execution_count": 17,
   "id": "89e4699a-c98c-46f2-adef-0c9a9a7590a6",
   "metadata": {},
   "outputs": [],
   "source": [
    "class vehicle:\n",
    "    \n",
    "    def __init__(self, name_of_vehicle, max_speed, average_of_vehicle):\n",
    "        self.name_of_vehicle = name_of_vehicle\n",
    "        self.max_speed = max_speed\n",
    "        self.average_of_vehicle = average_of_vehicle\n",
    "        \n",
    "class car(vehicle):\n",
    "    \n",
    "    def seating_cpacity (self, capacity):\n",
    "        return f\"{self.name_of_vehicle} has a seating capacity of {capacity}\""
   ]
  },
  {
   "cell_type": "code",
   "execution_count": 18,
   "id": "a6151dfc-78db-49e7-b527-51e9f7d8fe74",
   "metadata": {},
   "outputs": [],
   "source": [
    "car1 = car(\"aura\", 180, 30)"
   ]
  },
  {
   "cell_type": "code",
   "execution_count": 19,
   "id": "6097c9b3-51f4-4d52-a671-6f00d63b722b",
   "metadata": {},
   "outputs": [
    {
     "data": {
      "text/plain": [
       "'aura has a seating capacity of 5'"
      ]
     },
     "execution_count": 19,
     "metadata": {},
     "output_type": "execute_result"
    }
   ],
   "source": [
    "car1.seating_cpacity(5)"
   ]
  },
  {
   "cell_type": "markdown",
   "id": "26d4e5dc-eb33-4833-b370-7fbedefe26e1",
   "metadata": {},
   "source": [
    "Question no. 3:-"
   ]
  },
  {
   "cell_type": "markdown",
   "id": "3ec807b1-789b-48be-9891-23fa2714adea",
   "metadata": {},
   "source": [
    "multiple inheritance means where a class can inherit attributes and methods from more than one parent class.That is it can inherit multiple base classes.\n",
    "for example:-"
   ]
  },
  {
   "cell_type": "code",
   "execution_count": 39,
   "id": "b7b7b9db-8e0d-4fdf-999f-45b3471b8235",
   "metadata": {},
   "outputs": [],
   "source": [
    "class division_A:\n",
    "    def class_students(self):\n",
    "        print(\"there are 30 students\")\n",
    "        \n",
    "class division_B:\n",
    "    def class_students2(self):\n",
    "        print(\"there are 40 students\")\n",
    "        \n",
    "class division_C(division_A , division_B):\n",
    "    pass"
   ]
  },
  {
   "cell_type": "code",
   "execution_count": 40,
   "id": "0c1541f4-ccf3-4965-ba00-70b5ba6b6f74",
   "metadata": {},
   "outputs": [],
   "source": [
    "obj = division_C()"
   ]
  },
  {
   "cell_type": "code",
   "execution_count": 41,
   "id": "2be902de-c720-49e5-9898-d865f39aaf6e",
   "metadata": {},
   "outputs": [
    {
     "name": "stdout",
     "output_type": "stream",
     "text": [
      "there are 30 students\n"
     ]
    }
   ],
   "source": [
    "obj.class_students()"
   ]
  },
  {
   "cell_type": "code",
   "execution_count": 42,
   "id": "88949037-6e20-4490-82ff-18f382cd49ad",
   "metadata": {},
   "outputs": [
    {
     "name": "stdout",
     "output_type": "stream",
     "text": [
      "there are 40 students\n"
     ]
    }
   ],
   "source": [
    "obj.class_students2()"
   ]
  },
  {
   "cell_type": "markdown",
   "id": "3437460d-c7e3-4129-bba6-3c9b6cf69471",
   "metadata": {},
   "source": [
    "Question no.4 :-"
   ]
  },
  {
   "cell_type": "markdown",
   "id": "7012671f-5dbd-4961-b800-e3fb8b5669de",
   "metadata": {},
   "source": [
    "In python \"getter\" is a method to retrieve the value of a objects attribute.\n",
    "for example :"
   ]
  },
  {
   "cell_type": "code",
   "execution_count": 71,
   "id": "da9f8eb7-7275-445e-9b1d-6b70bee75720",
   "metadata": {},
   "outputs": [],
   "source": [
    "class bankaccount:\n",
    "    def __init__(self, balance):\n",
    "        self.balance = balance\n",
    "        \n",
    "    def get_balance(self):\n",
    "        return self.balance\n",
    "    \n",
    "    def deposit(self, amount):\n",
    "        self.balance += amount\n",
    "        \n",
    "    def withdraw(self, amount):\n",
    "        if self.balance >= amount:\n",
    "            self.balance -= amount\n",
    "        else:\n",
    "            print(\"insuffcient balance\")\n",
    "    "
   ]
  },
  {
   "cell_type": "code",
   "execution_count": 72,
   "id": "fe9a68b3-2dfc-4bf7-9bdf-dc8354dff087",
   "metadata": {},
   "outputs": [],
   "source": [
    "account = bankaccount(2000)"
   ]
  },
  {
   "cell_type": "code",
   "execution_count": 59,
   "id": "ebacbb6c-d7d5-42ec-b9a3-ba1f4a252e73",
   "metadata": {},
   "outputs": [
    {
     "data": {
      "text/plain": [
       "2000"
      ]
     },
     "execution_count": 59,
     "metadata": {},
     "output_type": "execute_result"
    }
   ],
   "source": [
    "account.get_balance()"
   ]
  },
  {
   "cell_type": "code",
   "execution_count": 73,
   "id": "8add28aa-0fbf-474b-8253-37ce4372a02c",
   "metadata": {},
   "outputs": [],
   "source": [
    "account.withdraw(1000)"
   ]
  },
  {
   "cell_type": "code",
   "execution_count": 74,
   "id": "63fb1053-a9fb-4408-af6e-09cdb18c9d1b",
   "metadata": {},
   "outputs": [
    {
     "data": {
      "text/plain": [
       "1000"
      ]
     },
     "execution_count": 74,
     "metadata": {},
     "output_type": "execute_result"
    }
   ],
   "source": [
    "account.get_balance()"
   ]
  },
  {
   "cell_type": "markdown",
   "id": "7c1eb688-ef9c-4eee-af1e-471b725ace24",
   "metadata": {},
   "source": [
    "\"setter\" in python means to allow the external user to set the vale of variable or attribute which is hidden.\n",
    "for example:-"
   ]
  },
  {
   "cell_type": "code",
   "execution_count": 97,
   "id": "76cae625-67cc-449c-b773-10228d9f4e5d",
   "metadata": {},
   "outputs": [],
   "source": [
    "class pc_classes:\n",
    "    \n",
    "    def __init__(self, name, seat_no , average_marks):\n",
    "        self.name = name\n",
    "        self.__seat_no = seat_no\n",
    "        self.average_marks = average_marks\n",
    "        \n",
    "    @property\n",
    "    def seatno_access(self):\n",
    "        return self.__seat_no\n",
    "    \n",
    "    @seatno_access.setter\n",
    "    def seatno_set(self, seat_number):\n",
    "        self.__seat_no = seat_number\n",
    "        \n",
    "        \n",
    "        "
   ]
  },
  {
   "cell_type": "code",
   "execution_count": 100,
   "id": "4dc3665a-b28c-4612-af9d-e20efd0bc35a",
   "metadata": {},
   "outputs": [],
   "source": [
    "pc1= pc_classes(\"srushti\", 123, \"90%\" )"
   ]
  },
  {
   "cell_type": "code",
   "execution_count": 104,
   "id": "64cedaad-1131-4d5a-8d04-c20b337fb029",
   "metadata": {},
   "outputs": [
    {
     "data": {
      "text/plain": [
       "'srushti'"
      ]
     },
     "execution_count": 104,
     "metadata": {},
     "output_type": "execute_result"
    }
   ],
   "source": [
    "pc1.name"
   ]
  },
  {
   "cell_type": "code",
   "execution_count": 99,
   "id": "fb962d7e-cf5c-4f93-a04d-7cd29ac83a85",
   "metadata": {},
   "outputs": [
    {
     "data": {
      "text/plain": [
       "'90%'"
      ]
     },
     "execution_count": 99,
     "metadata": {},
     "output_type": "execute_result"
    }
   ],
   "source": [
    "pc1.average_marks"
   ]
  },
  {
   "cell_type": "code",
   "execution_count": 101,
   "id": "09863fb6-e328-49e4-bccb-12b4a53f2ca0",
   "metadata": {},
   "outputs": [
    {
     "data": {
      "text/plain": [
       "123"
      ]
     },
     "execution_count": 101,
     "metadata": {},
     "output_type": "execute_result"
    }
   ],
   "source": [
    "pc1.seatno_access"
   ]
  },
  {
   "cell_type": "code",
   "execution_count": 102,
   "id": "bfdec25e-5b1a-4278-9d69-028c6a75d811",
   "metadata": {},
   "outputs": [],
   "source": [
    "pc1.seatno_set= 34"
   ]
  },
  {
   "cell_type": "code",
   "execution_count": 103,
   "id": "f5c124d8-9888-4ac7-b7e4-6836ebe9309e",
   "metadata": {},
   "outputs": [
    {
     "data": {
      "text/plain": [
       "34"
      ]
     },
     "execution_count": 103,
     "metadata": {},
     "output_type": "execute_result"
    }
   ],
   "source": [
    "pc1.seatno_access"
   ]
  },
  {
   "cell_type": "markdown",
   "id": "17f42a8b-6c89-48e8-bcfa-e5e9e182c0ff",
   "metadata": {},
   "source": [
    "Question no. 5:-"
   ]
  },
  {
   "cell_type": "markdown",
   "id": "5f4c66f1-01d5-4d20-bd3b-515abc652399",
   "metadata": {},
   "source": [
    "overriding in python is cosely related to inheritance.it occurs when a subclass inherits a method from its superclass but provides its own implementation of that method.\n",
    "for ex:-\n"
   ]
  },
  {
   "cell_type": "code",
   "execution_count": 17,
   "id": "506ba66e-4969-4277-b7ea-dc1ea7ec3fff",
   "metadata": {},
   "outputs": [],
   "source": [
    "class pwskills:\n",
    "    def datascience(self):\n",
    "        print(\"its a pwskills course\")\n",
    "        \n",
    "class python(pwskills):\n",
    "    def datascience(self):\n",
    "        print(\"its a pyhton part in pwskills course\")\n",
    "        \n",
    "class statistics(pwskills):\n",
    "    def datascience(self):\n",
    "        print(\"its a statistics part in pwskills course\")"
   ]
  },
  {
   "cell_type": "code",
   "execution_count": 10,
   "id": "90661ec1-1183-4ddd-bcde-88141b64e6e9",
   "metadata": {},
   "outputs": [],
   "source": [
    "obj = pwskills()\n"
   ]
  },
  {
   "cell_type": "code",
   "execution_count": 11,
   "id": "855991a0-be79-4e9d-8098-3ee94fe4d890",
   "metadata": {},
   "outputs": [],
   "source": [
    "Python = python()"
   ]
  },
  {
   "cell_type": "code",
   "execution_count": 18,
   "id": "082c9013-2574-4f98-8b8c-4b792b4946ee",
   "metadata": {},
   "outputs": [],
   "source": [
    "Statistics = statistics()"
   ]
  },
  {
   "cell_type": "code",
   "execution_count": 14,
   "id": "9f933203-1977-4633-b67a-483b91590135",
   "metadata": {},
   "outputs": [
    {
     "name": "stdout",
     "output_type": "stream",
     "text": [
      "its a pwskills course\n"
     ]
    }
   ],
   "source": [
    "obj.datascience()"
   ]
  },
  {
   "cell_type": "code",
   "execution_count": 20,
   "id": "e9419016-4a59-4ba7-af3e-95dee635b846",
   "metadata": {},
   "outputs": [
    {
     "name": "stdout",
     "output_type": "stream",
     "text": [
      "its a pyhton part in pwskills course\n"
     ]
    }
   ],
   "source": [
    "Python.datascience()"
   ]
  },
  {
   "cell_type": "code",
   "execution_count": 19,
   "id": "57cb520f-8167-4665-b1f7-17beb37eab9b",
   "metadata": {},
   "outputs": [
    {
     "name": "stdout",
     "output_type": "stream",
     "text": [
      "its a statistics part in pwskills course\n"
     ]
    }
   ],
   "source": [
    "Statistics.datascience()"
   ]
  },
  {
   "cell_type": "code",
   "execution_count": null,
   "id": "89e53e8a-9131-4a8e-9cc0-ce9682351ec3",
   "metadata": {},
   "outputs": [],
   "source": []
  }
 ],
 "metadata": {
  "kernelspec": {
   "display_name": "Python 3 (ipykernel)",
   "language": "python",
   "name": "python3"
  },
  "language_info": {
   "codemirror_mode": {
    "name": "ipython",
    "version": 3
   },
   "file_extension": ".py",
   "mimetype": "text/x-python",
   "name": "python",
   "nbconvert_exporter": "python",
   "pygments_lexer": "ipython3",
   "version": "3.10.8"
  }
 },
 "nbformat": 4,
 "nbformat_minor": 5
}
